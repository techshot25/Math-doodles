{
 "cells": [
  {
   "cell_type": "markdown",
   "metadata": {},
   "source": [
    "### Change the limits of integration to use Gauss-Legendre Quadrature formula for evaluating integrals.\n",
    "We will begin by attempting to convert a definite integral with finite bounds $a$ and $b$ to $-1$ and $1$:\n",
    "\n",
    "$$\\int_{a}^{b}f(x)\\;dx \\rightarrow \\int_{-1}^{1} g(t)\\;dt$$\n",
    "\n",
    "We can convert the limits of an integral by means of a scale and a shift. To convert the x-axis to another axis that is shifted and scaled to make the limits satisfy our needs. We can write a linear equation that maps $a$ to $-1$ and $b$ to $1$ as follows:\n",
    "$$x = m\\: t + c$$\n",
    "Plugging in the values for converting $a$ and $b$ to get:\n",
    "$$a = m\\:(-1)+c$$\n",
    "$$b = m\\:(1)+c$$\n",
    "Solving for $m$ and $c$ to get the following:\n",
    "$$m = \\frac{b-a}{2} \\; \\text{and} \\; c = \\frac{b+a}{2}$$\n",
    "Therefore\n",
    "$$x = \\frac{b-a}{2}\\;t+ \\frac{b+1}{2}$$\n",
    "So finally we need to take the derivative to get:\n",
    "$$dx = \\frac{b-a}{2}\\;dt$$\n",
    "Back to our integral to get:\n",
    "\n",
    "$$\\int_{a}^{b}f(x)\\;dx = \\boxed{ \\frac{b-a}{2} \\int_{-1}^{1} f\\left( \\frac{b-a}{2}t+ \\frac{b+1}{2}\\right ) \\;dt}$$\n",
    "\n",
    "Now we have all the tools we need to write our program that converts the function with new bounds and evaluate using Gauss-Legendre Quadrature of 3 points. Note that if you need more accurate equations, refer to the formulas on the Wikipedia page (https://en.wikipedia.org/wiki/Gaussian_quadrature?section=1#Gauss–Legendre_quadrature)"
   ]
  },
  {
   "cell_type": "code",
   "execution_count": 1,
   "metadata": {},
   "outputs": [
    {
     "name": "stdout",
     "output_type": "stream",
     "text": [
      "Using GCQ with 3 points: 0.25435439723052927\n"
     ]
    }
   ],
   "source": [
    "from math import *\n",
    "\n",
    "# Given the bounds a and b with a function f(x), we can do the following:\n",
    "\n",
    "# this formula requires the bounds and the function to be known\n",
    "def g(f,t): return (b-a)/2 * f( (b-a)/2*t + (b+a)/2 )\n",
    "\n",
    "# formula for Gauss-Legendre Quadrature with 3 points using only the given function\n",
    "def GCQ3(f): return 8/9*g(f,0) + 5/9*g(f,sqrt(3/5)) + 5/9*g(f,-sqrt(3/5))\n",
    "\n",
    "# example function\n",
    "def f(x): return exp(x)*cos(x)*sin(x+2.0)\n",
    "a = 0.5\n",
    "b = 1.5\n",
    "\n",
    "# find the result\n",
    "print(\"Using GCQ with 3 points: {}\".format(GCQ3(f)))"
   ]
  }
 ],
 "metadata": {
  "kernelspec": {
   "display_name": "Python 3",
   "language": "python",
   "name": "python3"
  },
  "language_info": {
   "codemirror_mode": {
    "name": "ipython",
    "version": 3
   },
   "file_extension": ".py",
   "mimetype": "text/x-python",
   "name": "python",
   "nbconvert_exporter": "python",
   "pygments_lexer": "ipython3",
   "version": "3.7.0"
  }
 },
 "nbformat": 4,
 "nbformat_minor": 2
}

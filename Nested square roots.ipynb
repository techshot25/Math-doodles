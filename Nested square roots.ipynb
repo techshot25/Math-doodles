{
 "cells": [
  {
   "cell_type": "markdown",
   "metadata": {},
   "source": [
    "## Math doodle\n",
    "\n",
    "Ever wondered what is the value of $x=\\sqrt{20+\\sqrt{20+\\sqrt{20+…\n",
    "}}}$\n",
    "\n",
    "Let's find out:"
   ]
  },
  {
   "cell_type": "code",
   "execution_count": 1,
   "metadata": {},
   "outputs": [
    {
     "name": "stdout",
     "output_type": "stream",
     "text": [
      "This converges to 5.0\n"
     ]
    },
    {
     "data": {
      "text/plain": [
       "<Figure size 640x480 with 1 Axes>"
      ]
     },
     "metadata": {},
     "output_type": "display_data"
    }
   ],
   "source": [
    "import math as m\n",
    "import matplotlib.pyplot as plt\n",
    "\n",
    "x = []\n",
    "x.append(m.sqrt(20))\n",
    "for i in range(100):\n",
    "    i += 1\n",
    "    x.append(m.sqrt(20+x[i-1]))\n",
    "print(\"This converges to {}\".format(x[i]))\n",
    "\n",
    "plt.plot(x[:5],'y*-')\n",
    "plt.title(\"Nested square roots.\")\n",
    "plt.ylabel(\"x [i]\")\n",
    "plt.xlabel(\"i\")\n",
    "plt.show()"
   ]
  },
  {
   "cell_type": "markdown",
   "metadata": {},
   "source": [
    "But can you create a nested loop out of any number? Choose $x$ to be any number, let's say $x=a$, we'll rewrite it to $x-a=0$ now we'll make a quadratic by multiplying both sides by a number less than $a$ by 1 to make: $(x-a)\\;(x+(a-1))=0$ and multiply it out to get $x^{2}-x-a^{2}+a=0$ now rearrange to get: $x^{2}=a^{2}-a+x$\n",
    "\n",
    "From here you can go two solutions for the quadratic (obviously): $x=\\pm\\sqrt{a^{2}-a+x}$\n",
    "\n",
    "Let's take the positive case: $x=\\sqrt{a^{2}-a+x}$\n",
    "\n",
    "Notice that we can just rewrite the $x$ inside the radical the same way the one outside the radical is written so:\n",
    "\n",
    "$x=\\sqrt{a^{2}-a+\\sqrt{a^{2}-a+x}}$\n",
    "\n",
    "And similaritly, we can get this to keep going to get:\n",
    "\n",
    "$x=\\sqrt{a^{2}-a+\\sqrt{a^{2}-a+\\sqrt{a^{2}-a+\\dots{}}}}$\n",
    "\n",
    "For the other number that we added $x=-(a-1)$ the negative case will work but will be a bit more complicated."
   ]
  },
  {
   "cell_type": "code",
   "execution_count": 2,
   "metadata": {},
   "outputs": [
    {
     "name": "stdout",
     "output_type": "stream",
     "text": [
      "Enter any positive integer: 7\n",
      "7.0\n"
     ]
    },
    {
     "data": {
      "image/png": "[encoded data removed]",
      "text/plain": [
       "<Figure size 432x288 with 1 Axes>"
      ]
     },
     "metadata": {
      "needs_background": "light"
     },
     "output_type": "display_data"
    },
    {
     "name": "stdout",
     "output_type": "stream",
     "text": [
      "This is made by iterating √(42+√(42+...))\n"
     ]
    }
   ],
   "source": [
    "a = int(input(\"Enter any positive integer: \"))\n",
    "\n",
    "y = []\n",
    "y.append(m.sqrt(a**2-a))\n",
    "for i in range(100):\n",
    "    i += 1\n",
    "    y.append(m.sqrt(a**2-a+y[i-1]))\n",
    "print(y[i])\n",
    "\n",
    "plt.plot(y[:5],'b*-')\n",
    "plt.title(\"Nested square roots.\")\n",
    "plt.ylabel(\"x [i]\")\n",
    "plt.xlabel(\"i\")\n",
    "plt.show()\n",
    "\n",
    "print(\"This is made by iterating \\u221A({}+\\u221A({}+...))\".format(a**2-a,a**2-a))"
   ]
  },
  {
   "cell_type": "code",
   "execution_count": null,
   "metadata": {},
   "outputs": [],
   "source": []
  }
 ],
 "metadata": {
  "kernelspec": {
   "display_name": "Python 3",
   "language": "python",
   "name": "python3"
  },
  "language_info": {
   "codemirror_mode": {
    "name": "ipython",
    "version": 3
   },
   "file_extension": ".py",
   "mimetype": "text/x-python",
   "name": "python",
   "nbconvert_exporter": "python",
   "pygments_lexer": "ipython3",
   "version": "3.7.0"
  }
 },
 "nbformat": 4,
 "nbformat_minor": 2
}
